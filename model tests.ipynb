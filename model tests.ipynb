{
 "cells": [
  {
   "cell_type": "code",
   "execution_count": 30,
   "id": "840e94c3",
   "metadata": {},
   "outputs": [
    {
     "name": "stdout",
     "output_type": "stream",
     "text": [
      "The autoreload extension is already loaded. To reload it, use:\n",
      "  %reload_ext autoreload\n"
     ]
    }
   ],
   "source": [
    "%load_ext autoreload\n",
    "%autoreload 1\n",
    "%aimport preprocess, postprocess"
   ]
  },
  {
   "cell_type": "code",
   "execution_count": 31,
   "id": "b4380d4b",
   "metadata": {},
   "outputs": [
    {
     "name": "stdout",
     "output_type": "stream",
     "text": [
      "['<BOS>', 'science', 'true', 'daughter', 'of', 'old', 'time', 'thou', 'art', '<LINE>', 'who', 'alterest', 'all', 'things', 'with', 'thy', 'peering', 'eyes', '<LINE>', 'why', 'preyest', 'thou', 'thus', 'upon', 'the', 'poets', 'heart', '<LINE>', 'vulture', 'whose', 'wings', 'are', 'dull', 'realities', '<LINE>', 'how', 'should', 'he', 'love', 'thee', 'or', 'how', 'deem', 'thee', 'wise', '<LINE>', 'who', 'wouldst', 'not', 'leave', 'him', 'in', 'his', 'wandering', '<LINE>', 'to', 'seek', 'for', 'treasure', 'in', 'the', 'jewelled', 'skies', '<LINE>', 'albeit', 'he', 'soared', 'with', 'an', 'undaunted', 'wing', '<LINE>', 'hast', 'thou', 'not', 'dragged', 'diana', 'from', 'her', 'car', '<LINE>', 'and', 'driven', 'the', 'hamadryad', 'from', 'the', 'wood', '<LINE>', 'to', 'seek', 'a', 'shelter', 'in', 'some', 'happier', 'star', '<LINE>', 'hast', 'thou', 'not', 'torn', 'the', 'naiad', 'from', 'her', 'flood', '<LINE>', 'the', 'elfin', 'from', 'the', 'green', 'grass', 'and', 'from', 'me', '<LINE>', 'the', 'summer', 'dream', 'beneath', 'the', 'tamarind', 'tree', '<EOS>']\n"
     ]
    }
   ],
   "source": [
    "from preprocess import get_data\n",
    "lst = get_data()\n",
    "poem = lst[0]\n",
    "print(poem)"
   ]
  },
  {
   "cell_type": "code",
   "execution_count": 45,
   "id": "66cc54cd",
   "metadata": {},
   "outputs": [
    {
     "name": "stdout",
     "output_type": "stream",
     "text": [
      "science true daughter of old time thou art \n",
      " who alterest all things with thy peering eyes \n",
      " why preyest thou thus upon the poets heart \n",
      " vulture whose wings are dull realities \n",
      " how should he love thee or how deem thee wise \n",
      " who wouldst not leave him in his wandering \n",
      " to seek for treasure in the jewelled skies \n",
      " albeit he soared with an undaunted wing \n",
      " hast thou not dragged diana from her car \n",
      " and driven the hamadryad from the wood \n",
      " to seek a shelter in some happier star \n",
      " hast thou not torn the naiad from her flood \n",
      " the elfin from the green grass and from me \n",
      " the summer dream beneath the tamarind tree\n",
      "\n",
      "\n",
      "0.7387387387387387\n"
     ]
    }
   ],
   "source": [
    "from postprocess import Postprocessing\n",
    "from metrics import Metrics\n",
    "import numpy as np\n",
    "\n",
    "post_help = Postprocessing(model_name=\"Test\")\n",
    "formatted = post_help.format_poem(np.array(poem))\n",
    "post_help.print_poem(formatted)\n",
    "evaluation = Metrics()\n",
    "eval_dict = evaluation.lexical_diversity(formatted)\n",
    "print(\"\\n\")\n",
    "print(eval_dict)"
   ]
  },
  {
   "cell_type": "code",
   "execution_count": 8,
   "id": "986729c6",
   "metadata": {},
   "outputs": [
    {
     "name": "stdout",
     "output_type": "stream",
     "text": [
      "['<BOS>', 'creeping', 'laves', 'older', 'merest', 'heathen', 'glowing', 'ulalume', '<LINE>', 'bell', 'ere', 'palaces', 'dominion', 'blossom', 'alphabet', 'tremble', '<LINE>', 'keeping', 'bed', 'forgiveness', 'struggling', 'emblem', 'flimsy', 'there', 'echo', 'swift', '<LINE>', 'view', 'vales', 'same', 'fiend', 'universal', 'lovers', 'little', 'gardengate', 'samarcand', 'lea', '<LINE>', 'finger', 'bud', 'soft', 'chains', 'folly', 'chain', 'herself', 'soft', 'chaos', '<LINE>', 'ministers', 'surcease', 'awakening', 'spot', 'am', 'temple', 'decorum', 'true', '<LINE>', 'stirrd', 'blushing', 'waters', 'sleep', 'no', '<LINE>', 'contradiction', 'slumberd', 'chilling\\u2028and', 'pens', 'magical', 'fact', 'another', '<LINE>', 'smile', 'shaven', 'crime', 'descend', 'divining', 'swamp', '<LINE>', 'senses', 'unbroken', 'bediamonded', 'fervently', 'lead', 'albatros', '<EOS>']\n",
      "\n",
      "\n",
      "creeping laves older merest heathen glowing ulalume \n",
      " bell ere palaces dominion blossom alphabet tremble \n",
      " keeping bed forgiveness struggling emblem flimsy there echo swift \n",
      " view vales same fiend universal lovers little gardengate samarcand lea \n",
      " finger bud soft chains folly chain herself soft chaos \n",
      " ministers surcease awakening spot am temple decorum true \n",
      " stirrd blushing waters sleep no \n",
      " contradiction slumberd chilling \n",
      "and pens magical fact another \n",
      " smile shaven crime descend divining swamp \n",
      " senses unbroken bediamonded fervently lead albatros\n",
      "\n",
      "\n",
      "0.9864864864864865\n"
     ]
    }
   ],
   "source": [
    "from random_generator import RandomGenerator\n",
    "from postprocess import Postprocessing\n",
    "from metrics import Metrics\n",
    "import numpy as np\n",
    "\n",
    "model = RandomGenerator([5, 10], 10)\n",
    "models_poem = model.generate_poem()\n",
    "print(models_poem)\n",
    "\n",
    "post_help = Postprocessing(model_name=\"Random Generator\")\n",
    "formatted = post_help.format_poem(np.array(models_poem))\n",
    "print(\"\\n\")\n",
    "post_help.print_poem(formatted)\n",
    "evaluation = Metrics()\n",
    "eval_dict = evaluation.lexical_diversity(formatted)\n",
    "print(\"\\n\")\n",
    "print(eval_dict)"
   ]
  }
 ],
 "metadata": {
  "kernelspec": {
   "display_name": "Python 3",
   "language": "python",
   "name": "python3"
  },
  "language_info": {
   "codemirror_mode": {
    "name": "ipython",
    "version": 3
   },
   "file_extension": ".py",
   "mimetype": "text/x-python",
   "name": "python",
   "nbconvert_exporter": "python",
   "pygments_lexer": "ipython3",
   "version": "3.9.9 (tags/v3.9.9:ccb0e6a, Nov 15 2021, 18:08:50) [MSC v.1929 64 bit (AMD64)]"
  },
  "vscode": {
   "interpreter": {
    "hash": "1e3db957e45cca41de000a5dd28e20da93a8690fe2b07e9b2ca0889a7a30a2fc"
   }
  }
 },
 "nbformat": 4,
 "nbformat_minor": 5
}
